{
 "cells": [
  {
   "cell_type": "markdown",
   "metadata": {},
   "source": [
    "Ensayo en el codigo para incluir varias metricas en gridsearch"
   ]
  },
  {
   "cell_type": "code",
   "execution_count": 14,
   "metadata": {},
   "outputs": [],
   "source": [
    "import os\n",
    "import time\n",
    "import json\n",
    "import pandas as pd\n",
    "import datetime as dt"
   ]
  },
  {
   "cell_type": "code",
   "execution_count": 5,
   "metadata": {},
   "outputs": [],
   "source": [
    "current_dir = os.getcwd()\n",
    "\n",
    "file_name = 'conf.json'\n",
    "path = os.path.join(current_dir, f'{file_name}')\n",
    "with open(path, 'r') as f:\n",
    "    info_conf = json.load(f)\n",
    "            \n",
    "base_path = info_conf['base_path']\n",
    "os.chdir(base_path)"
   ]
  },
  {
   "cell_type": "code",
   "execution_count": 16,
   "metadata": {},
   "outputs": [],
   "source": [
    "import sklearn.metrics as metrics\n",
    "from sklearn.externals import joblib\n",
    "from sklearn.pipeline import Pipeline\n",
    "from sklearn.metrics import confusion_matrix\n",
    "from sklearn.preprocessing import StandardScaler\n",
    "from sklearn.model_selection import GridSearchCV"
   ]
  },
  {
   "cell_type": "code",
   "execution_count": 6,
   "metadata": {},
   "outputs": [],
   "source": [
    "from xgboost import XGBClassifier\n",
    "from sklearn.naive_bayes import GaussianNB\n",
    "from sklearn.naive_bayes import BernoulliNB\n",
    "from sklearn.linear_model import RidgeClassifier\n",
    "from sklearn.neural_network import MLPClassifier\n",
    "from sklearn.ensemble import ExtraTreesClassifier\n",
    "from sklearn.ensemble import RandomForestClassifier\n",
    "from sklearn.linear_model import LogisticRegression\n",
    "from sklearn.ensemble import GradientBoostingClassifier\n",
    "from sklearn.discriminant_analysis import QuadraticDiscriminantAnalysis"
   ]
  },
  {
   "cell_type": "code",
   "execution_count": 7,
   "metadata": {},
   "outputs": [
    {
     "name": "stderr",
     "output_type": "stream",
     "text": [
      "C:\\Users\\pasal\\Anaconda3\\envs\\PI2\\lib\\site-packages\\sklearn\\externals\\joblib\\__init__.py:15: FutureWarning: sklearn.externals.joblib is deprecated in 0.21 and will be removed in 0.23. Please import this functionality directly from joblib, which can be installed with: pip install joblib. If this warning is raised when loading pickled models, you may need to re-serialize those models with scikit-learn 0.21+.\n",
      "  warnings.warn(msg, category=FutureWarning)\n"
     ]
    }
   ],
   "source": [
    "import scripts.funciones as funciones"
   ]
  },
  {
   "cell_type": "code",
   "execution_count": null,
   "metadata": {},
   "outputs": [],
   "source": []
  },
  {
   "cell_type": "code",
   "execution_count": 8,
   "metadata": {},
   "outputs": [],
   "source": [
    "d_ini = dt.datetime(2019,1,1)\n",
    "d_fin = dt.datetime(2019,2,1)"
   ]
  },
  {
   "cell_type": "code",
   "execution_count": 9,
   "metadata": {},
   "outputs": [],
   "source": [
    "data = funciones.read_clima_accidentes(d_ini, d_fin)\n",
    "data_org = funciones.organizar_data_infoClima(data)\n",
    "\n",
    "\n",
    "poblado = ['alejandria','altosdelpoblado',\n",
    "            'astorga','barriocolombia',\n",
    "            'castropol','elcastillo',\n",
    "            'eldiamanteno2','elpoblado',\n",
    "            'eltesoro','laaguacatala',\n",
    "            'laflorida','lalinde',\n",
    "            'laslomasno1','laslomasno2',\n",
    "            'losbalsosno1','losbalsosno2',\n",
    "            'losnaranjos','manila',\n",
    "            'patiobonito','sanlucas',\n",
    "            'santamariadelosangeles',\n",
    "            'villacarlota']\n",
    "\n",
    "data_org = data_org[data_org['BARRIO'].isin(poblado)]\n",
    "\n",
    "data_org['poblado'] = data_org['BARRIO']\n",
    "data_org= pd.get_dummies(data_org, columns=['poblado'])\n",
    "\n",
    "X = data_org.drop(columns = ['TW','BARRIO','Accidente','summary'])\n",
    "Y = data_org['Accidente']    "
   ]
  },
  {
   "cell_type": "code",
   "execution_count": 10,
   "metadata": {},
   "outputs": [],
   "source": [
    "models = {\n",
    "              'logistic':{\n",
    "                          'mod':LogisticRegression(random_state = 42),\n",
    "                          'par':{\n",
    "                              'penalty': ('l1','l2'),\n",
    "                              'solver': ('saga','lbfgs')\n",
    "\n",
    "                          }\n",
    "              }\n",
    "          }"
   ]
  },
  {
   "cell_type": "code",
   "execution_count": 35,
   "metadata": {},
   "outputs": [],
   "source": [
    "score = ['roc_auc','balanced_accuracy','f1']"
   ]
  },
  {
   "cell_type": "code",
   "execution_count": 46,
   "metadata": {
    "scrolled": true
   },
   "outputs": [
    {
     "name": "stdout",
     "output_type": "stream",
     "text": [
      "********************************************************************************\n",
      "Model: logistic\n",
      "Fitting 2 folds for each of 4 candidates, totalling 8 fits\n",
      "[CV] logistic__penalty=l1, logistic__solver=saga .....................\n"
     ]
    },
    {
     "name": "stderr",
     "output_type": "stream",
     "text": [
      "[Parallel(n_jobs=1)]: Using backend SequentialBackend with 1 concurrent workers.\n",
      "C:\\Users\\pasal\\Anaconda3\\envs\\PI2\\lib\\site-packages\\sklearn\\linear_model\\_sag.py:330: ConvergenceWarning: The max_iter was reached which means the coef_ did not converge\n",
      "  \"the coef_ did not converge\", ConvergenceWarning)\n",
      "[Parallel(n_jobs=1)]: Done   1 out of   1 | elapsed:    2.2s remaining:    0.0s\n"
     ]
    },
    {
     "name": "stdout",
     "output_type": "stream",
     "text": [
      "[CV] ...... logistic__penalty=l1, logistic__solver=saga, total=   2.3s\n",
      "[CV] logistic__penalty=l1, logistic__solver=saga .....................\n"
     ]
    },
    {
     "name": "stderr",
     "output_type": "stream",
     "text": [
      "C:\\Users\\pasal\\Anaconda3\\envs\\PI2\\lib\\site-packages\\sklearn\\linear_model\\_sag.py:330: ConvergenceWarning: The max_iter was reached which means the coef_ did not converge\n",
      "  \"the coef_ did not converge\", ConvergenceWarning)\n",
      "C:\\Users\\pasal\\Anaconda3\\envs\\PI2\\lib\\site-packages\\sklearn\\model_selection\\_validation.py:536: FitFailedWarning: Estimator fit failed. The score on this train-test partition for these parameters will be set to nan. Details: \n",
      "ValueError: Solver lbfgs supports only 'l2' or 'none' penalties, got l1 penalty.\n",
      "\n",
      "  FitFailedWarning)\n",
      "C:\\Users\\pasal\\Anaconda3\\envs\\PI2\\lib\\site-packages\\sklearn\\model_selection\\_validation.py:536: FitFailedWarning: Estimator fit failed. The score on this train-test partition for these parameters will be set to nan. Details: \n",
      "ValueError: Solver lbfgs supports only 'l2' or 'none' penalties, got l1 penalty.\n",
      "\n",
      "  FitFailedWarning)\n"
     ]
    },
    {
     "name": "stdout",
     "output_type": "stream",
     "text": [
      "[CV] ...... logistic__penalty=l1, logistic__solver=saga, total=   2.3s\n",
      "[CV] logistic__penalty=l1, logistic__solver=lbfgs ....................\n",
      "[CV] ..... logistic__penalty=l1, logistic__solver=lbfgs, total=   0.0s\n",
      "[CV] logistic__penalty=l1, logistic__solver=lbfgs ....................\n",
      "[CV] ..... logistic__penalty=l1, logistic__solver=lbfgs, total=   0.0s\n",
      "[CV] logistic__penalty=l2, logistic__solver=saga .....................\n"
     ]
    },
    {
     "name": "stderr",
     "output_type": "stream",
     "text": [
      "C:\\Users\\pasal\\Anaconda3\\envs\\PI2\\lib\\site-packages\\sklearn\\linear_model\\_sag.py:330: ConvergenceWarning: The max_iter was reached which means the coef_ did not converge\n",
      "  \"the coef_ did not converge\", ConvergenceWarning)\n"
     ]
    },
    {
     "name": "stdout",
     "output_type": "stream",
     "text": [
      "[CV] ...... logistic__penalty=l2, logistic__solver=saga, total=   1.6s\n",
      "[CV] logistic__penalty=l2, logistic__solver=saga .....................\n"
     ]
    },
    {
     "name": "stderr",
     "output_type": "stream",
     "text": [
      "C:\\Users\\pasal\\Anaconda3\\envs\\PI2\\lib\\site-packages\\sklearn\\linear_model\\_sag.py:330: ConvergenceWarning: The max_iter was reached which means the coef_ did not converge\n",
      "  \"the coef_ did not converge\", ConvergenceWarning)\n"
     ]
    },
    {
     "name": "stdout",
     "output_type": "stream",
     "text": [
      "[CV] ...... logistic__penalty=l2, logistic__solver=saga, total=   1.5s\n",
      "[CV] logistic__penalty=l2, logistic__solver=lbfgs ....................\n",
      "[CV] ..... logistic__penalty=l2, logistic__solver=lbfgs, total=  10.1s\n",
      "[CV] logistic__penalty=l2, logistic__solver=lbfgs ....................\n",
      "[CV] ..... logistic__penalty=l2, logistic__solver=lbfgs, total=  11.5s\n"
     ]
    },
    {
     "name": "stderr",
     "output_type": "stream",
     "text": [
      "[Parallel(n_jobs=1)]: Done   8 out of   8 | elapsed:   29.4s finished\n"
     ]
    },
    {
     "name": "stdout",
     "output_type": "stream",
     "text": [
      "El tiempo de seleccion fue: 32.720 s\n",
      "El ['roc_auc', 'balanced_accuracy', 'f1'] de la familia logistic es: 0.737\n",
      "El b_accuracy de la familia logistic es: 0.496\n",
      "El fscore de la familia logistic es: 0.011\n",
      "********************************************************************************\n"
     ]
    },
    {
     "name": "stderr",
     "output_type": "stream",
     "text": [
      "C:\\Users\\pasal\\Anaconda3\\envs\\PI2\\lib\\site-packages\\sklearn\\linear_model\\_sag.py:330: ConvergenceWarning: The max_iter was reached which means the coef_ did not converge\n",
      "  \"the coef_ did not converge\", ConvergenceWarning)\n"
     ]
    }
   ],
   "source": [
    "for name in models:\n",
    "    print('*'*80)\n",
    "    print(\"Model: \" + name)\n",
    "    t_beg = time.time()\n",
    "\n",
    "    pipeline = Pipeline([('scaler', StandardScaler()), (name,  models[name]['mod'])])\n",
    "    parameters = {}          \n",
    "    for par in models[name]['par']:\n",
    "        aux = name + '__' +  par\n",
    "        parameters[aux] = models[name]['par'][par]\n",
    "    \n",
    "    aux = GridSearchCV(pipeline, parameters, n_jobs = 1,\n",
    "                      scoring = ['roc_auc','balanced_accuracy','f1'], \n",
    "                       verbose=2, cv = 2, refit = 'roc_auc')\n",
    "    aux.fit(X, Y)\n",
    "    models[name]['bestModel'] = aux.best_estimator_\n",
    "    models[name]['mae'] = aux.best_score_\n",
    "\n",
    "    selection_time = time.time() - t_beg\n",
    "    res = pd.DataFrame(aux.cv_results_)  \n",
    "\n",
    "    bAccuracy = res[res['params']==aux.best_params_]['mean_test_balanced_accuracy'].values[0]\n",
    "    fScore = res[res['params']==aux.best_params_]['mean_test_f1'].values[0]\n",
    "    models[name]['selection_time'] = selection_time\n",
    "\n",
    "    print(f\"El tiempo de seleccion fue: {selection_time:0.3f} s\")\n",
    "    print(f\"El {score} de la familia {name} es: {models[name]['mae']:0.3f}\")\n",
    "    print(f\"El b_accuracy de la familia {name} es: {bAccuracy:0.3f}\")\n",
    "    print(f\"El fscore de la familia {name} es: {fScore:0.3f}\")\n",
    "    print('*'*80)"
   ]
  },
  {
   "cell_type": "code",
   "execution_count": 45,
   "metadata": {},
   "outputs": [
    {
     "data": {
      "text/plain": [
       "0.4961810305517556"
      ]
     },
     "execution_count": 45,
     "metadata": {},
     "output_type": "execute_result"
    }
   ],
   "source": [
    "bAccuracy.values[0]"
   ]
  },
  {
   "cell_type": "code",
   "execution_count": 41,
   "metadata": {},
   "outputs": [
    {
     "name": "stdout",
     "output_type": "stream",
     "text": [
      "El b_accuracy de la familia logistic es: 2    0.496181\n",
      "Name: mean_test_balanced_accuracy, dtype: float64\n",
      "El fscore de la familia logistic es: 2    0.011442\n",
      "Name: mean_test_f1, dtype: float64\n"
     ]
    }
   ],
   "source": [
    "print(f\"El b_accuracy de la familia {name} es: {bAccuracy}\")\n",
    "print(f\"El fscore de la familia {name} es: {fScore}\")"
   ]
  },
  {
   "cell_type": "code",
   "execution_count": 36,
   "metadata": {
    "scrolled": true
   },
   "outputs": [
    {
     "name": "stdout",
     "output_type": "stream",
     "text": [
      "Fitting 2 folds for each of 4 candidates, totalling 8 fits\n",
      "[CV] logistic__penalty=l1, logistic__solver=saga .....................\n"
     ]
    },
    {
     "name": "stderr",
     "output_type": "stream",
     "text": [
      "[Parallel(n_jobs=1)]: Using backend SequentialBackend with 1 concurrent workers.\n",
      "C:\\Users\\pasal\\Anaconda3\\envs\\PI2\\lib\\site-packages\\sklearn\\linear_model\\_sag.py:330: ConvergenceWarning: The max_iter was reached which means the coef_ did not converge\n",
      "  \"the coef_ did not converge\", ConvergenceWarning)\n",
      "[Parallel(n_jobs=1)]: Done   1 out of   1 | elapsed:    2.7s remaining:    0.0s\n"
     ]
    },
    {
     "name": "stdout",
     "output_type": "stream",
     "text": [
      "[CV] ...... logistic__penalty=l1, logistic__solver=saga, total=   2.8s\n",
      "[CV] logistic__penalty=l1, logistic__solver=saga .....................\n"
     ]
    },
    {
     "name": "stderr",
     "output_type": "stream",
     "text": [
      "C:\\Users\\pasal\\Anaconda3\\envs\\PI2\\lib\\site-packages\\sklearn\\linear_model\\_sag.py:330: ConvergenceWarning: The max_iter was reached which means the coef_ did not converge\n",
      "  \"the coef_ did not converge\", ConvergenceWarning)\n",
      "C:\\Users\\pasal\\Anaconda3\\envs\\PI2\\lib\\site-packages\\sklearn\\model_selection\\_validation.py:536: FitFailedWarning: Estimator fit failed. The score on this train-test partition for these parameters will be set to nan. Details: \n",
      "ValueError: Solver lbfgs supports only 'l2' or 'none' penalties, got l1 penalty.\n",
      "\n",
      "  FitFailedWarning)\n"
     ]
    },
    {
     "name": "stdout",
     "output_type": "stream",
     "text": [
      "[CV] ...... logistic__penalty=l1, logistic__solver=saga, total=   3.0s\n",
      "[CV] logistic__penalty=l1, logistic__solver=lbfgs ....................\n",
      "[CV] ..... logistic__penalty=l1, logistic__solver=lbfgs, total=   0.1s\n",
      "[CV] logistic__penalty=l1, logistic__solver=lbfgs ....................\n",
      "[CV] ..... logistic__penalty=l1, logistic__solver=lbfgs, total=   0.1s\n",
      "[CV] logistic__penalty=l2, logistic__solver=saga .....................\n"
     ]
    },
    {
     "name": "stderr",
     "output_type": "stream",
     "text": [
      "C:\\Users\\pasal\\Anaconda3\\envs\\PI2\\lib\\site-packages\\sklearn\\model_selection\\_validation.py:536: FitFailedWarning: Estimator fit failed. The score on this train-test partition for these parameters will be set to nan. Details: \n",
      "ValueError: Solver lbfgs supports only 'l2' or 'none' penalties, got l1 penalty.\n",
      "\n",
      "  FitFailedWarning)\n",
      "C:\\Users\\pasal\\Anaconda3\\envs\\PI2\\lib\\site-packages\\sklearn\\linear_model\\_sag.py:330: ConvergenceWarning: The max_iter was reached which means the coef_ did not converge\n",
      "  \"the coef_ did not converge\", ConvergenceWarning)\n"
     ]
    },
    {
     "name": "stdout",
     "output_type": "stream",
     "text": [
      "[CV] ...... logistic__penalty=l2, logistic__solver=saga, total=   2.3s\n",
      "[CV] logistic__penalty=l2, logistic__solver=saga .....................\n"
     ]
    },
    {
     "name": "stderr",
     "output_type": "stream",
     "text": [
      "C:\\Users\\pasal\\Anaconda3\\envs\\PI2\\lib\\site-packages\\sklearn\\linear_model\\_sag.py:330: ConvergenceWarning: The max_iter was reached which means the coef_ did not converge\n",
      "  \"the coef_ did not converge\", ConvergenceWarning)\n"
     ]
    },
    {
     "name": "stdout",
     "output_type": "stream",
     "text": [
      "[CV] ...... logistic__penalty=l2, logistic__solver=saga, total=   2.4s\n",
      "[CV] logistic__penalty=l2, logistic__solver=lbfgs ....................\n",
      "[CV] ..... logistic__penalty=l2, logistic__solver=lbfgs, total=   6.7s\n",
      "[CV] logistic__penalty=l2, logistic__solver=lbfgs ....................\n",
      "[CV] ..... logistic__penalty=l2, logistic__solver=lbfgs, total=   8.0s\n"
     ]
    },
    {
     "name": "stderr",
     "output_type": "stream",
     "text": [
      "[Parallel(n_jobs=1)]: Done   8 out of   8 | elapsed:   25.2s finished\n",
      "C:\\Users\\pasal\\Anaconda3\\envs\\PI2\\lib\\site-packages\\sklearn\\linear_model\\_sag.py:330: ConvergenceWarning: The max_iter was reached which means the coef_ did not converge\n",
      "  \"the coef_ did not converge\", ConvergenceWarning)\n"
     ]
    },
    {
     "data": {
      "text/plain": [
       "GridSearchCV(cv=2, error_score=nan,\n",
       "             estimator=Pipeline(memory=None,\n",
       "                                steps=[('scaler',\n",
       "                                        StandardScaler(copy=True,\n",
       "                                                       with_mean=True,\n",
       "                                                       with_std=True)),\n",
       "                                       ('logistic',\n",
       "                                        LogisticRegression(C=1.0,\n",
       "                                                           class_weight=None,\n",
       "                                                           dual=False,\n",
       "                                                           fit_intercept=True,\n",
       "                                                           intercept_scaling=1,\n",
       "                                                           l1_ratio=None,\n",
       "                                                           max_iter=100,\n",
       "                                                           multi_class='auto',\n",
       "                                                           n_jobs=None,\n",
       "                                                           penalty='l2',\n",
       "                                                           random_state=42,\n",
       "                                                           solver='lbfgs',\n",
       "                                                           tol=0.0001,\n",
       "                                                           verbose=0,\n",
       "                                                           warm_start=False))],\n",
       "                                verbose=False),\n",
       "             iid='deprecated', n_jobs=1,\n",
       "             param_grid={'logistic__penalty': ('l1', 'l2'),\n",
       "                         'logistic__solver': ('saga', 'lbfgs')},\n",
       "             pre_dispatch='2*n_jobs', refit='roc_auc', return_train_score=False,\n",
       "             scoring=['roc_auc', 'balanced_accuracy', 'f1'], verbose=2)"
      ]
     },
     "execution_count": 36,
     "metadata": {},
     "output_type": "execute_result"
    }
   ],
   "source": [
    "aux = GridSearchCV(pipeline, parameters, n_jobs = 1,refit = 'roc_auc',\n",
    "                  scoring = score, verbose=2, cv = 2)\n",
    "aux.fit(X, Y)"
   ]
  },
  {
   "cell_type": "code",
   "execution_count": 37,
   "metadata": {},
   "outputs": [
    {
     "data": {
      "text/plain": [
       "2    0.496181\n",
       "Name: mean_test_balanced_accuracy, dtype: float64"
      ]
     },
     "execution_count": 37,
     "metadata": {},
     "output_type": "execute_result"
    }
   ],
   "source": [
    "res = pd.DataFrame(aux.cv_results_)\n",
    "res[res['params']==aux.best_params_]['mean_test_balanced_accuracy']"
   ]
  },
  {
   "cell_type": "code",
   "execution_count": 38,
   "metadata": {},
   "outputs": [
    {
     "data": {
      "text/plain": [
       "2    0.011442\n",
       "Name: mean_test_f1, dtype: float64"
      ]
     },
     "execution_count": 38,
     "metadata": {},
     "output_type": "execute_result"
    }
   ],
   "source": [
    "res[res['params']==aux.best_params_]['mean_test_f1']"
   ]
  },
  {
   "cell_type": "code",
   "execution_count": null,
   "metadata": {},
   "outputs": [],
   "source": []
  }
 ],
 "metadata": {
  "kernelspec": {
   "display_name": "Python 3",
   "language": "python",
   "name": "python3"
  },
  "language_info": {
   "codemirror_mode": {
    "name": "ipython",
    "version": 3
   },
   "file_extension": ".py",
   "mimetype": "text/x-python",
   "name": "python",
   "nbconvert_exporter": "python",
   "pygments_lexer": "ipython3",
   "version": "3.7.6"
  }
 },
 "nbformat": 4,
 "nbformat_minor": 4
}
